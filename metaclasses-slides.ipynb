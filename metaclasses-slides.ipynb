{
 "metadata": {
  "name": ""
 },
 "nbformat": 3,
 "nbformat_minor": 0,
 "worksheets": [
  {
   "cells": [
    {
     "cell_type": "raw",
     "metadata": {},
     "source": [
      "<script>Reveal.configure({center: false})</script>"
     ]
    },
    {
     "cell_type": "markdown",
     "metadata": {
      "slideshow": {
       "slide_type": "slide"
      }
     },
     "source": [
      "# Rewriting Python Docstrings\n",
      "# ... with a Metaclass"
     ]
    },
    {
     "cell_type": "markdown",
     "metadata": {},
     "source": [
      "#### Jess Hamrick (@jhamrick)\n",
      "#### [http://www.jesshamrick.com](http://www.jesshamrick.com)\n",
      "#### San Francisco Python Meetup\n",
      "#### November 13th, 2013"
     ]
    },
    {
     "cell_type": "markdown",
     "metadata": {
      "slideshow": {
       "slide_type": "slide"
      }
     },
     "source": [
      "# Why metaclasses?\n",
      "\n",
      "There are things you cannot do with classes.\n",
      "\n",
      "Metaclasses let you do these things!"
     ]
    },
    {
     "cell_type": "markdown",
     "metadata": {
      "slideshow": {
       "slide_type": "slide"
      }
     },
     "source": [
      "# The Problem\n",
      "\n",
      "Inherited docstrings aren't particularly informative:"
     ]
    },
    {
     "cell_type": "code",
     "collapsed": false,
     "input": [
      "class A(object):\n",
      "    def my_func(self):\n",
      "        \"\"\"Do some stuff for class A.\"\"\"\n",
      "        pass\n",
      "\n",
      "class B(A):\n",
      "    pass\n",
      "\n",
      "print A().my_func.__doc__\n",
      "print B().my_func.__doc__ # this is doing stuff for class B!"
     ],
     "language": "python",
     "metadata": {
      "slideshow": {
       "slide_type": "-"
      }
     },
     "outputs": [
      {
       "output_type": "stream",
       "stream": "stdout",
       "text": [
        "Do some stuff for class A.\n",
        "Do some stuff for class A.\n"
       ]
      }
     ],
     "prompt_number": 1
    },
    {
     "cell_type": "markdown",
     "metadata": {
      "slideshow": {
       "slide_type": "subslide"
      }
     },
     "source": [
      "# More specifically...\n",
      "\n",
      "The `nose` testing framework will print out the docstrings of test methods as it runs them. \n",
      "\n",
      "Unfortunately, if you have a test suite class that inherits from another class, you won't be able to tell when it's running methods from the parent class vs. the subclass."
     ]
    },
    {
     "cell_type": "markdown",
     "metadata": {
      "slideshow": {
       "slide_type": "slide"
      }
     },
     "source": [
      "# The Simple Solution\n",
      "\n",
      "Just manually include information in the docstrings:"
     ]
    },
    {
     "cell_type": "code",
     "collapsed": false,
     "input": [
      "class A(object):\n",
      "    def my_func(self):\n",
      "        \"\"\"A: Do some stuff.\"\"\"\n",
      "        pass\n",
      "\n",
      "class B(A):\n",
      "    def my_func(self):\n",
      "        \"\"\"B: Do some stuff.\"\"\"\n",
      "        super(B, self).my_func()\n",
      "\n",
      "print A().my_func.__doc__\n",
      "print B().my_func.__doc__"
     ],
     "language": "python",
     "metadata": {
      "slideshow": {
       "slide_type": "-"
      }
     },
     "outputs": [
      {
       "output_type": "stream",
       "stream": "stdout",
       "text": [
        "A: Do some stuff.\n",
        "B: Do some stuff.\n"
       ]
      }
     ],
     "prompt_number": 2
    },
    {
     "cell_type": "markdown",
     "metadata": {},
     "source": [
      "But, that's a lot of work if you have many subclasses and/or many methods."
     ]
    },
    {
     "cell_type": "markdown",
     "metadata": {
      "slideshow": {
       "slide_type": "slide"
      }
     },
     "source": [
      "# A Better Solution?\n",
      "\n",
      "\"Aha!\", one might say. \"I will just edit the docstrings in the `__init__` of the superclass!\""
     ]
    },
    {
     "cell_type": "code",
     "collapsed": false,
     "input": [
      "class A(object):\n",
      "    def __init__(self):\n",
      "        old_doc = self.my_func.__doc__\n",
      "        cls_name = type(self).__name__\n",
      "        self.my_func.__doc__ = \"%s: %s\" % (cls_name, old_doc)\n",
      "        \n",
      "    def my_func(self):\n",
      "        \"\"\"Do some stuff.\"\"\"\n",
      "        \n",
      "class B(A):\n",
      "    pass"
     ],
     "language": "python",
     "metadata": {},
     "outputs": [],
     "prompt_number": 3
    },
    {
     "cell_type": "markdown",
     "metadata": {
      "slideshow": {
       "slide_type": "subslide"
      }
     },
     "source": [
      "Unfortunately, *method* docstrings aren't writable:"
     ]
    },
    {
     "cell_type": "code",
     "collapsed": false,
     "input": [
      "print A().my_func.__doc__\n",
      "print B().my_func.__doc__"
     ],
     "language": "python",
     "metadata": {},
     "outputs": [
      {
       "ename": "AttributeError",
       "evalue": "attribute '__doc__' of 'instancemethod' objects is not writable",
       "output_type": "pyerr",
       "traceback": [
        "\u001b[0;31m---------------------------------------------------------------------------\u001b[0m\n\u001b[0;31mAttributeError\u001b[0m                            Traceback (most recent call last)",
        "\u001b[0;32m<ipython-input-4-ddf68abe1a40>\u001b[0m in \u001b[0;36m<module>\u001b[0;34m()\u001b[0m\n\u001b[0;32m----> 1\u001b[0;31m \u001b[0;32mprint\u001b[0m \u001b[0mA\u001b[0m\u001b[0;34m(\u001b[0m\u001b[0;34m)\u001b[0m\u001b[0;34m.\u001b[0m\u001b[0mmy_func\u001b[0m\u001b[0;34m.\u001b[0m\u001b[0m__doc__\u001b[0m\u001b[0;34m\u001b[0m\u001b[0m\n\u001b[0m\u001b[1;32m      2\u001b[0m \u001b[0;32mprint\u001b[0m \u001b[0mB\u001b[0m\u001b[0;34m(\u001b[0m\u001b[0;34m)\u001b[0m\u001b[0;34m.\u001b[0m\u001b[0mmy_func\u001b[0m\u001b[0;34m.\u001b[0m\u001b[0m__doc__\u001b[0m\u001b[0;34m\u001b[0m\u001b[0m\n",
        "\u001b[0;32m<ipython-input-3-d4d1b624ac26>\u001b[0m in \u001b[0;36m__init__\u001b[0;34m(self)\u001b[0m\n\u001b[1;32m      3\u001b[0m         \u001b[0mold_doc\u001b[0m \u001b[0;34m=\u001b[0m \u001b[0mself\u001b[0m\u001b[0;34m.\u001b[0m\u001b[0mmy_func\u001b[0m\u001b[0;34m.\u001b[0m\u001b[0m__doc__\u001b[0m\u001b[0;34m\u001b[0m\u001b[0m\n\u001b[1;32m      4\u001b[0m         \u001b[0mcls_name\u001b[0m \u001b[0;34m=\u001b[0m \u001b[0mtype\u001b[0m\u001b[0;34m(\u001b[0m\u001b[0mself\u001b[0m\u001b[0;34m)\u001b[0m\u001b[0;34m.\u001b[0m\u001b[0m__name__\u001b[0m\u001b[0;34m\u001b[0m\u001b[0m\n\u001b[0;32m----> 5\u001b[0;31m         \u001b[0mself\u001b[0m\u001b[0;34m.\u001b[0m\u001b[0mmy_func\u001b[0m\u001b[0;34m.\u001b[0m\u001b[0m__doc__\u001b[0m \u001b[0;34m=\u001b[0m \u001b[0;34m\"%s: %s\"\u001b[0m \u001b[0;34m%\u001b[0m \u001b[0;34m(\u001b[0m\u001b[0mcls_name\u001b[0m\u001b[0;34m,\u001b[0m \u001b[0mold_doc\u001b[0m\u001b[0;34m)\u001b[0m\u001b[0;34m\u001b[0m\u001b[0m\n\u001b[0m\u001b[1;32m      6\u001b[0m \u001b[0;34m\u001b[0m\u001b[0m\n\u001b[1;32m      7\u001b[0m     \u001b[0;32mdef\u001b[0m \u001b[0mmy_func\u001b[0m\u001b[0;34m(\u001b[0m\u001b[0mself\u001b[0m\u001b[0;34m)\u001b[0m\u001b[0;34m:\u001b[0m\u001b[0;34m\u001b[0m\u001b[0m\n",
        "\u001b[0;31mAttributeError\u001b[0m: attribute '__doc__' of 'instancemethod' objects is not writable"
       ]
      }
     ],
     "prompt_number": 4
    },
    {
     "cell_type": "markdown",
     "metadata": {
      "slideshow": {
       "slide_type": "fragment"
      }
     },
     "source": [
      "Note: Function docstrings, in general, *are* writable -- it's just **method** docstrings that aren't."
     ]
    },
    {
     "cell_type": "markdown",
     "metadata": {
      "slideshow": {
       "slide_type": "fragment"
      }
     },
     "source": [
      "So, is there any way to change the function's docstring *before* it becomes a method?"
     ]
    },
    {
     "cell_type": "markdown",
     "metadata": {
      "slideshow": {
       "slide_type": "slide"
      }
     },
     "source": [
      "# Taking a step back: what is a class?"
     ]
    },
    {
     "cell_type": "markdown",
     "metadata": {
      "slideshow": {
       "slide_type": "-"
      }
     },
     "source": [
      "A **class** is a special kind of object which creates new objects called **instances**."
     ]
    },
    {
     "cell_type": "markdown",
     "metadata": {
      "slideshow": {
       "slide_type": "fragment"
      }
     },
     "source": [
      "A class is kind of like a form (e.g., tax form 1040)."
     ]
    },
    {
     "cell_type": "markdown",
     "metadata": {
      "slideshow": {
       "slide_type": "fragment"
      }
     },
     "source": [
      "An instance is kind of like *your specific copy* of the form."
     ]
    },
    {
     "cell_type": "markdown",
     "metadata": {
      "slideshow": {
       "slide_type": "subslide"
      }
     },
     "source": [
      "`type` will tell us the **class** of an **instance**:"
     ]
    },
    {
     "cell_type": "code",
     "collapsed": false,
     "input": [
      "class A(object):\n",
      "    def my_func(self):\n",
      "        \"\"\"Do some stuff.\"\"\"\n",
      "        pass\n",
      "    \n",
      "a_inst = A()\n",
      "print \"Instance `a_inst` has type:\", type(a_inst).__name__"
     ],
     "language": "python",
     "metadata": {},
     "outputs": [
      {
       "output_type": "stream",
       "stream": "stdout",
       "text": [
        "Instance `a_inst` has type: A\n"
       ]
      }
     ],
     "prompt_number": 5
    },
    {
     "cell_type": "markdown",
     "metadata": {
      "slideshow": {
       "slide_type": "subslide"
      }
     },
     "source": [
      "Remember: everything in Python is an object!\n",
      "\n",
      "So, classes have types, too:"
     ]
    },
    {
     "cell_type": "code",
     "collapsed": false,
     "input": [
      "print \"Class `A` has type:\", type(A).__name__"
     ],
     "language": "python",
     "metadata": {},
     "outputs": [
      {
       "output_type": "stream",
       "stream": "stdout",
       "text": [
        "Class `A` has type: type\n"
       ]
      }
     ],
     "prompt_number": 6
    },
    {
     "cell_type": "markdown",
     "metadata": {},
     "source": [
      "In other words, classes are generated by a special type called `type`.\n",
      "\n",
      "(Yes, the terminology is a bit confusing.)"
     ]
    },
    {
     "cell_type": "markdown",
     "metadata": {
      "slideshow": {
       "slide_type": "subslide"
      }
     },
     "source": [
      "# A word on `type`\n",
      "\n",
      "The `type` object actually does a few different things:\n",
      "\n",
      "1. It denotes a type of object (the type of classes, specifically).\n",
      "2. It tells you what type an object is.\n",
      "3. It can create new classes."
     ]
    },
    {
     "cell_type": "markdown",
     "metadata": {
      "slideshow": {
       "slide_type": "slide"
      }
     },
     "source": [
      "# Creating a class on the fly"
     ]
    },
    {
     "cell_type": "markdown",
     "metadata": {},
     "source": [
      "This is the type of class declaration you're used to:"
     ]
    },
    {
     "cell_type": "code",
     "collapsed": false,
     "input": [
      "class A(object):\n",
      "    def my_func(self):\n",
      "        \"\"\"Do some stuff.\"\"\"\n",
      "        pass"
     ],
     "language": "python",
     "metadata": {
      "slideshow": {
       "slide_type": "-"
      }
     },
     "outputs": [],
     "prompt_number": 7
    },
    {
     "cell_type": "markdown",
     "metadata": {
      "slideshow": {
       "slide_type": "fragment"
      }
     },
     "source": [
      "But we can also use the `type` type to create new classes on demand:"
     ]
    },
    {
     "cell_type": "code",
     "collapsed": false,
     "input": [
      "def my_func(self):\n",
      "    \"\"\"Do some stuff.\"\"\"\n",
      "    pass\n",
      "\n",
      "A_name = 'A'\n",
      "A_parents = (object,)\n",
      "A_methods = {'my_func': my_func}\n",
      "A = type(A_name, A_parents, A_methods)"
     ],
     "language": "python",
     "metadata": {
      "slideshow": {
       "slide_type": "fragment"
      }
     },
     "outputs": [],
     "prompt_number": 8
    },
    {
     "cell_type": "markdown",
     "metadata": {
      "slideshow": {
       "slide_type": "slide"
      }
     },
     "source": [
      "# Modifying the docstring, take II\n",
      "\n",
      "Let's try creating our new class programmatically.\n",
      "\n",
      "This way, we can modify the function's docstring *before* it becomes a method:"
     ]
    },
    {
     "cell_type": "code",
     "collapsed": false,
     "input": [
      "def my_func(self):\n",
      "    \"\"\"Do some stuff.\"\"\"\n",
      "    pass"
     ],
     "language": "python",
     "metadata": {
      "slideshow": {
       "slide_type": "skip"
      }
     },
     "outputs": [],
     "prompt_number": 9
    },
    {
     "cell_type": "code",
     "collapsed": false,
     "input": [
      "def make_class(name, parents, methods):\n",
      "    \"\"\"Create a new class and prefix its method's docstrings to \n",
      "    include the class name.\"\"\"\n",
      "    for f in methods:\n",
      "        methods[f].__doc__ = \"%s: %s\" % (name, methods[f].__doc__)\n",
      "    cls = type(name, parents, methods)\n",
      "    return cls"
     ],
     "language": "python",
     "metadata": {},
     "outputs": [],
     "prompt_number": 10
    },
    {
     "cell_type": "code",
     "collapsed": false,
     "input": [
      "A = make_class('A', (object,), {'my_func': my_func})\n",
      "print A().my_func.__doc__\n",
      "\n",
      "B = make_class('B', (A,), {'my_func': my_func})\n",
      "print B().my_func.__doc__"
     ],
     "language": "python",
     "metadata": {
      "slideshow": {
       "slide_type": "fragment"
      }
     },
     "outputs": [
      {
       "output_type": "stream",
       "stream": "stdout",
       "text": [
        "A: Do some stuff.\n",
        "B: A: Do some stuff.\n"
       ]
      }
     ],
     "prompt_number": 11
    },
    {
     "cell_type": "markdown",
     "metadata": {
      "slideshow": {
       "slide_type": "fragment"
      }
     },
     "source": [
      "Oops, that wasn't what we wanted! What happened?"
     ]
    },
    {
     "cell_type": "markdown",
     "metadata": {
      "slideshow": {
       "slide_type": "subslide"
      }
     },
     "source": [
      "What happened was that we modified the docstring of the *same object* (function) in memory.\n",
      "\n",
      "Rather than having two separate functions in `A` and `B`, they point to the same function:"
     ]
    },
    {
     "cell_type": "code",
     "collapsed": false,
     "input": [
      "print A.my_func.__func__ is B.my_func.__func__\n",
      "print my_func.__doc__"
     ],
     "language": "python",
     "metadata": {},
     "outputs": [
      {
       "output_type": "stream",
       "stream": "stdout",
       "text": [
        "True\n",
        "B: A: Do some stuff.\n"
       ]
      }
     ],
     "prompt_number": 12
    },
    {
     "cell_type": "markdown",
     "metadata": {
      "slideshow": {
       "slide_type": "slide"
      }
     },
     "source": [
      "# Creating functions on the fly\n",
      "\n",
      "Luckily, we can programmatically create functions using the `function` type, too!"
     ]
    },
    {
     "cell_type": "code",
     "collapsed": false,
     "input": [
      "def my_func(self):\n",
      "    \"\"\"Do some stuff.\"\"\"\n",
      "    pass"
     ],
     "language": "python",
     "metadata": {
      "slideshow": {
       "slide_type": "skip"
      }
     },
     "outputs": [],
     "prompt_number": 13
    },
    {
     "cell_type": "code",
     "collapsed": false,
     "input": [
      "def copy_function(f):\n",
      "    \"\"\"Create a new function in memory that is a duplicate of `f`.\"\"\"\n",
      "    func_type = type(f)\n",
      "    new_func = func_type(\n",
      "        f.func_code,      # bytecode\n",
      "        f.func_globals,   # global namespace\n",
      "        f.func_name,      # function name\n",
      "        f.func_defaults,  # default keyword argument values\n",
      "        f.func_closure)   # closure variables\n",
      "    new_func.__doc__ = f.__doc__\n",
      "    return new_func"
     ],
     "language": "python",
     "metadata": {
      "slideshow": {
       "slide_type": "fragment"
      }
     },
     "outputs": [],
     "prompt_number": 14
    },
    {
     "cell_type": "code",
     "collapsed": false,
     "input": [
      "my_new_func = copy_function(my_func)\n",
      "my_new_func.__doc__ = \"modified: %s\" % my_func.__doc__\n",
      "\n",
      "print my_func.__doc__\n",
      "print my_new_func.__doc__"
     ],
     "language": "python",
     "metadata": {
      "slideshow": {
       "slide_type": "fragment"
      }
     },
     "outputs": [
      {
       "output_type": "stream",
       "stream": "stdout",
       "text": [
        "Do some stuff.\n",
        "modified: Do some stuff.\n"
       ]
      }
     ],
     "prompt_number": 15
    },
    {
     "cell_type": "markdown",
     "metadata": {
      "slideshow": {
       "slide_type": "slide"
      }
     },
     "source": [
      "# Modifying the docstring, take III"
     ]
    },
    {
     "cell_type": "markdown",
     "metadata": {},
     "source": [
      "Let's update our `make_class` function to copy the methods before changing their docstrings:"
     ]
    },
    {
     "cell_type": "code",
     "collapsed": false,
     "input": [
      "def my_func(self):\n",
      "    \"\"\"Do some stuff.\"\"\"\n",
      "    pass"
     ],
     "language": "python",
     "metadata": {
      "slideshow": {
       "slide_type": "skip"
      }
     },
     "outputs": [],
     "prompt_number": 16
    },
    {
     "cell_type": "code",
     "collapsed": false,
     "input": [
      "def make_class(name, parents, methods):\n",
      "    \"\"\"Create a new class and prefix its method's docstrings to \n",
      "    include the class name.\"\"\"\n",
      "    for f in methods:\n",
      "        # copy the function, overwrite the docstring, and replace the old method\n",
      "        new_func = copy_function(methods[f])\n",
      "        new_func.__doc__ = \"%s: %s\" % (name, methods[f].__doc__)\n",
      "        methods[f] = new_func\n",
      "    cls = type(name, parents, methods)\n",
      "    return cls"
     ],
     "language": "python",
     "metadata": {},
     "outputs": [],
     "prompt_number": 17
    },
    {
     "cell_type": "code",
     "collapsed": false,
     "input": [
      "# Now it works!\n",
      "\n",
      "A = make_class('A', (object,), {'my_func': my_func})\n",
      "B = make_class('B', (A,), {'my_func': my_func})\n",
      "\n",
      "print A().my_func.__doc__\n",
      "print B().my_func.__doc__"
     ],
     "language": "python",
     "metadata": {
      "slideshow": {
       "slide_type": "fragment"
      }
     },
     "outputs": [
      {
       "output_type": "stream",
       "stream": "stdout",
       "text": [
        "A: Do some stuff.\n",
        "B: Do some stuff.\n"
       ]
      }
     ],
     "prompt_number": 18
    },
    {
     "cell_type": "markdown",
     "metadata": {
      "slideshow": {
       "slide_type": "slide"
      }
     },
     "source": [
      "# Hey, weren't we supposed to be learning about metaclasses?"
     ]
    },
    {
     "cell_type": "markdown",
     "metadata": {
      "slideshow": {
       "slide_type": "fragment"
      }
     },
     "source": [
      "Actually, we were! A metaclass is any *callable* that takes parameters for: \n",
      "\n",
      "1. the class **name**\n",
      "2. the class's **bases** (parent classes)\n",
      "3. the class's **attributes** (methods and variables)\n",
      "\n",
      "The `type` type we were using before is just the *default* metaclass."
     ]
    },
    {
     "cell_type": "markdown",
     "metadata": {
      "slideshow": {
       "slide_type": "subslide"
      }
     },
     "source": [
      "The function `make_class` is technically a metaclass, too!\n",
      "\n",
      "1. It takes three arguments for the class's name, bases, and attributes.\n",
      "2. It modifies the attributes by creating copies of the functions and editing their docstrings.\n",
      "3. It creates a new class using these modified attributes.\n",
      "4. It returns the new class."
     ]
    },
    {
     "cell_type": "markdown",
     "metadata": {
      "slideshow": {
       "slide_type": "subslide"
      }
     },
     "source": [
      "However, Python creates classes in a slightly more complex way than we were creating classes.\n",
      "\n",
      "We need to modify our `make_class` function to ignore other class attributes (e.g. non-functions):"
     ]
    },
    {
     "cell_type": "code",
     "collapsed": false,
     "input": [
      "def make_class(name, parents, attrs):\n",
      "    \"\"\"Create a new class and prefix its method's docstrings to\n",
      "    include the class name.\"\"\"\n",
      "    for a in attrs:\n",
      "        # skip special methods and non-functions\n",
      "        if a.startswith(\"__\") or not hasattr(attrs[a], \"__call__\"):\n",
      "            continue\n",
      "            \n",
      "        # copy the function, overwrite the docstring, and replace the old method\n",
      "        new_func = copy_function(attrs[a])\n",
      "        new_func.__doc__ = \"%s: %s\" % (name, attrs[a].__doc__)\n",
      "        attrs[a] = new_func\n",
      "        \n",
      "    cls = type(name, parents, attrs)\n",
      "    return cls"
     ],
     "language": "python",
     "metadata": {
      "slideshow": {
       "slide_type": "-"
      }
     },
     "outputs": [],
     "prompt_number": 19
    },
    {
     "cell_type": "markdown",
     "metadata": {
      "slideshow": {
       "slide_type": "subslide"
      }
     },
     "source": [
      "Now, all we need is a little special \"syntactic sugar\" in our class definition, and it works!"
     ]
    },
    {
     "cell_type": "code",
     "collapsed": false,
     "input": [
      "class A(object):\n",
      "    __metaclass__ = make_class\n",
      "    \n",
      "    def my_func(self):\n",
      "        \"\"\"Do some stuff.\"\"\"\n",
      "        pass\n",
      "    \n",
      "print A().my_func.__doc__"
     ],
     "language": "python",
     "metadata": {
      "slideshow": {
       "slide_type": "-"
      }
     },
     "outputs": [
      {
       "output_type": "stream",
       "stream": "stdout",
       "text": [
        "A: Do some stuff.\n"
       ]
      }
     ],
     "prompt_number": 20
    },
    {
     "cell_type": "markdown",
     "metadata": {},
     "source": [
      "Note that this `__metaclass__` syntax applies to Python 2.7. The syntax is [slightly different](http://mikewatkins.ca/2008/11/29/python-2-and-3-metaclasses/) for Python 3."
     ]
    },
    {
     "cell_type": "markdown",
     "metadata": {
      "slideshow": {
       "slide_type": "slide"
      }
     },
     "source": [
      "# So, what exactly did we do?\n",
      "\n",
      "## (i.e., getting meta about metaclasses)\n",
      "\n",
      "Metaclasses intervene on **class** (not instance) creation.\n",
      "\n",
      "This gives us an opportunity to modify the class's methods before the class is actually created:\n",
      "\n",
      "1. Copy each of the functions that will later become methods.\n",
      "2. Change the docstrings of these new functions.\n",
      "3. Create the class using these new functions instead of the ones that were originally given."
     ]
    },
    {
     "cell_type": "markdown",
     "metadata": {
      "slideshow": {
       "slide_type": "subslide"
      }
     },
     "source": [
      "# A side note...\n",
      "\n",
      "Subclasses still won't actually rewrite the docstring correctly:"
     ]
    },
    {
     "cell_type": "code",
     "collapsed": false,
     "input": [
      "class A(object):\n",
      "    __metaclass__ = make_class\n",
      "    \n",
      "    def my_func(self):\n",
      "        \"\"\"Do some stuff.\"\"\"\n",
      "        pass\n",
      "    \n",
      "class B(A):\n",
      "    pass\n",
      "    \n",
      "print A().my_func.__doc__\n",
      "print B().my_func.__doc__"
     ],
     "language": "python",
     "metadata": {},
     "outputs": [
      {
       "output_type": "stream",
       "stream": "stdout",
       "text": [
        "A: Do some stuff.\n",
        "A: Do some stuff.\n"
       ]
      }
     ],
     "prompt_number": 21
    },
    {
     "cell_type": "markdown",
     "metadata": {},
     "source": [
      "This is because `my_func` is not passed in as an attribute of `B` (it is already an attribute of `A`). \n",
      "\n",
      "To *really* make this work, you have to go through all the attributes of all the parent classes and copy them, too.\n",
      "\n",
      "My [blog post](http://www.jesshamrick.com/2013/04/17/rewriting-python-docstrings-with-a-metaclass/) (link) goes into this in more detail and includes the full code."
     ]
    },
    {
     "cell_type": "markdown",
     "metadata": {
      "slideshow": {
       "slide_type": "slide"
      }
     },
     "source": [
      "# What else are metaclasses good for?\n",
      "\n",
      "Django uses metaclasses to simplify its interface:"
     ]
    },
    {
     "cell_type": "code",
     "collapsed": true,
     "input": [
      "class Person(models.Model):\n",
      "    name = models.CharField(max_length=30)\n",
      "    age = models.IntegerField()"
     ],
     "language": "python",
     "metadata": {},
     "outputs": []
    },
    {
     "cell_type": "code",
     "collapsed": false,
     "input": [
      "p = Person(name='Jess', age='24')\n",
      "print(p.age) # this gives an int, not an IntegerField!"
     ],
     "language": "python",
     "metadata": {},
     "outputs": []
    },
    {
     "cell_type": "markdown",
     "metadata": {},
     "source": [
      "(Source: [Classes as objects](http://stackoverflow.com/questions/100003/what-is-a-metaclass-in-python) on StackOverflow)"
     ]
    },
    {
     "cell_type": "markdown",
     "metadata": {
      "slideshow": {
       "slide_type": "slide"
      }
     },
     "source": [
      "# Beware!\n",
      "\n",
      "Metaclasses can make code incredibly difficult to understand.\n",
      "\n",
      "Only use them when you really need them!"
     ]
    },
    {
     "cell_type": "markdown",
     "metadata": {
      "slideshow": {
       "slide_type": "subslide"
      }
     },
     "source": [
      "In the words of Tim Peters:\n",
      "\n",
      "> Metaclasses are deeper magic than 99% of users should ever worry about. If you wonder whether you need them, you don't (the people who actually need them know with certainty that they need them, and don't need an explanation about why)."
     ]
    },
    {
     "cell_type": "markdown",
     "metadata": {},
     "source": [
      "... unless you're like me, and you enjoy learning about obscure parts of Python.\n",
      "\n",
      "But really, if you're writing code for anything anyone else will ever use, this is good advice."
     ]
    },
    {
     "cell_type": "markdown",
     "metadata": {
      "slideshow": {
       "slide_type": "slide"
      }
     },
     "source": [
      "# Thanks!\n",
      "\n",
      "Details are available on my website, [http://www.jesshamrick.com/](http://www.jesshamrick.com/) (see also the first reference below). I'll be posting these slides for reference, too.\n",
      "\n",
      "This presentation was created with the lovely [IPython Notebook](http://ipython.org/notebook.html), using the `ipython nbconvert` subcommand to convert the notebook into [reveal.js slides](http://lab.hakim.se/reveal-js/#/).\n",
      "\n",
      "### References\n",
      "\n",
      "* [Rewriting Python Docstrings with a Metaclass](http://www.jesshamrick.com/2013/04/17/rewriting-python-docstrings-with-a-metaclass/) by myself\n",
      "* [A Primer on Python Metaclasses](http://jakevdp.github.io/blog/2012/12/01/a-primer-on-python-metaclasses/) by Jake Vanderplas\n",
      "* [What is a metaclass in Python?](http://stackoverflow.com/questions/100003/what-is-a-metaclass-in-python) on StackOverflow\n",
      "* [Customizing class creation](http://docs.python.org/2/reference/datamodel.html#customizing-class-creation) from the official Python docs\n",
      "* [Python 2 and 3: Metaclasses](http://mikewatkins.ca/2008/11/29/python-2-and-3-metaclasses/) by Michael Watkins"
     ]
    }
   ],
   "metadata": {}
  }
 ]
}